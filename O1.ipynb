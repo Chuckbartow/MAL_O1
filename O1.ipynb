{
 "cells": [
  {
   "cell_type": "code",
   "execution_count": null,
   "id": "d70f7ff7-57a0-41ac-8951-cde3c0a3391a",
   "metadata": {},
   "outputs": [],
   "source": []
  },
  {
   "cell_type": "markdown",
   "id": "0eea5f2f",
   "metadata": {
    "tags": []
   },
   "source": [
    "# OPGAVE 1 Intro"
   ]
  },
  {
   "cell_type": "markdown",
   "id": "a691b1c3",
   "metadata": {},
   "source": [
    "L01/intro.ipynb: Qa+b+c+d\n",
    "\n",
    "L01/modules_and_classes.ipynb: Qa+b+c+e+f+g\n",
    "\n",
    "L02/cost_function.ipynb: Qa+b+c+d+e+f\n",
    "\n",
    "L02/dummy_classifier.ipynb: Qa+b+c+d\n",
    "\n",
    "L02/performance_metrics.ipynb: Qa+b+c+d+e"
   ]
  },
  {
   "cell_type": "markdown",
   "id": "e5817126",
   "metadata": {
    "tags": []
   },
   "source": [
    "### Setup code"
   ]
  },
  {
   "cell_type": "code",
   "execution_count": null,
   "id": "795fbd6e",
   "metadata": {
    "tags": []
   },
   "outputs": [
    {
     "data": {
      "image/png": "[encoded data removed]",
      "text/plain": [
       "<Figure size 432x288 with 1 Axes>"
      ]
     },
     "metadata": {
      "needs_background": "light"
     },
     "output_type": "display_data"
    },
    {
     "name": "stdout",
     "output_type": "stream",
     "text": [
      "[[5.96242338]]\n",
      "[[4.91154459e-05]]\n",
      "[4.8530528]\n",
      "OK\n"
     ]
    },
    {
     "data": {
      "image/png": "[encoded data removed]",
      "text/plain": [
       "<Figure size 360x216 with 1 Axes>"
      ]
     },
     "metadata": {
      "needs_background": "light"
     },
     "output_type": "display_data"
    }
   ],
   "source": [
    "# To support both python 2 and python 3\n",
    "from __future__ import division, print_function, unicode_literals\n",
    "\n",
    "# Common imports\n",
    "import numpy as np\n",
    "import os\n",
    "\n",
    "# to make this notebook's output stable across runs\n",
    "np.random.seed(42)\n",
    "\n",
    "# To plot pretty figures\n",
    "%matplotlib inline\n",
    "import matplotlib\n",
    "import matplotlib.pyplot as plt\n",
    "plt.rcParams['axes.labelsize'] = 14\n",
    "plt.rcParams['xtick.labelsize'] = 12\n",
    "plt.rcParams['ytick.labelsize'] = 12\n",
    "\n",
    "# Where to save the figures\n",
    "PROJECT_ROOT_DIR = \".\"\n",
    "CHAPTER_ID = \"fundamentals\"\n",
    "\n",
    "def save_fig(fig_id, tight_layout=True):\n",
    "    path = os.path.join(PROJECT_ROOT_DIR, \"images\", CHAPTER_ID, fig_id + \".png\")\n",
    "    print(\"IGNORING: Saving figure\", fig_id) # SWMAL: I've disabled saving of figures\n",
    "    #if tight_layout:\n",
    "    #    plt.tight_layout()\n",
    "    #plt.savefig(path, format='png', dpi=300)\n",
    "\n",
    "# Ignore useless warnings (see SciPy issue #5998)\n",
    "import warnings\n",
    "warnings.filterwarnings(action=\"ignore\", module=\"scipy\", message=\"^internal gelsd\")\n",
    "\n",
    "def prepare_country_stats(oecd_bli, gdp_per_capita):\n",
    "    oecd_bli = oecd_bli[oecd_bli[\"INEQUALITY\"]==\"TOT\"]\n",
    "    oecd_bli = oecd_bli.pivot(index=\"Country\", columns=\"Indicator\", values=\"Value\")\n",
    "    gdp_per_capita.rename(columns={\"2015\": \"GDP per capita\"}, inplace=True)\n",
    "    gdp_per_capita.set_index(\"Country\", inplace=True)\n",
    "    full_country_stats = pd.merge(left=oecd_bli, right=gdp_per_capita,\n",
    "                                  left_index=True, right_index=True)\n",
    "    full_country_stats.sort_values(by=\"GDP per capita\", inplace=True)\n",
    "    remove_indices = [0, 1, 6, 8, 33, 34, 35]\n",
    "    keep_indices = list(set(range(36)) - set(remove_indices))\n",
    "    return full_country_stats[[\"GDP per capita\", 'Life satisfaction']].iloc[keep_indices]\n",
    "\n",
    "import os\n",
    "datapath = os.path.join(\"../datasets\", \"lifesat\", \"\")\n",
    "\n",
    "\n",
    "# Code example\n",
    "import matplotlib\n",
    "import matplotlib.pyplot as plt\n",
    "import numpy as np\n",
    "import pandas as pd\n",
    "import sklearn.linear_model\n",
    "\n",
    "# Load the data\n",
    "try:\n",
    "    oecd_bli = pd.read_csv(datapath + \"oecd_bli_2015.csv\", thousands=',')\n",
    "    gdp_per_capita = pd.read_csv(datapath + \"gdp_per_capita.csv\",thousands=',',delimiter='\\t',\n",
    "                             encoding='latin1', na_values=\"n/a\")\n",
    "except Exception as e:\n",
    "    print(f\"SWMAL NOTE: well, you need to have the 'datasets' dir in path, please unzip 'datasets.zip' and make sure that its included in the datapath='{datapath}' setting in the cell above..\")\n",
    "    raise e\n",
    "\n",
    "# Prepare the data\n",
    "country_stats = prepare_country_stats(oecd_bli, gdp_per_capita)\n",
    "X = np.c_[country_stats[\"GDP per capita\"]]\n",
    "y = np.c_[country_stats[\"Life satisfaction\"]]\n",
    "\n",
    "# Visualize the data\n",
    "country_stats.plot(kind='scatter', x=\"GDP per capita\", y='Life satisfaction')\n",
    "plt.show()\n",
    "\n",
    "# Select a linear model\n",
    "model = sklearn.linear_model.LinearRegression()\n",
    "\n",
    "# Train the model\n",
    "model.fit(X, y)\n",
    "\n",
    "# Make a prediction for Cyprus\n",
    "X_new = [[22587]]  # Cyprus' GDP per capita\n",
    "y_pred = model.predict(X_new)\n",
    "print(y_pred) # outputs [[ 5.96242338]]\n",
    "\n",
    "\n",
    "oecd_bli = pd.read_csv(datapath + \"oecd_bli_2015.csv\", thousands=',')\n",
    "oecd_bli = oecd_bli[oecd_bli[\"INEQUALITY\"]==\"TOT\"]\n",
    "oecd_bli = oecd_bli.pivot(index=\"Country\", columns=\"Indicator\", values=\"Value\")\n",
    "#oecd_bli.head(2)\n",
    "\n",
    "gdp_per_capita = pd.read_csv(datapath+\"gdp_per_capita.csv\", thousands=',', delimiter='\\t',\n",
    "                             encoding='latin1', na_values=\"n/a\")\n",
    "gdp_per_capita.rename(columns={\"2015\": \"GDP per capita\"}, inplace=True)\n",
    "gdp_per_capita.set_index(\"Country\", inplace=True)\n",
    "#gdp_per_capita.head(2)\n",
    "\n",
    "full_country_stats = pd.merge(left=oecd_bli, right=gdp_per_capita, left_index=True, right_index=True)\n",
    "full_country_stats.sort_values(by=\"GDP per capita\", inplace=True)\n",
    "#full_country_stats\n",
    "\n",
    "remove_indices = [0, 1, 6, 8, 33, 34, 35]\n",
    "keep_indices = list(set(range(36)) - set(remove_indices))\n",
    "\n",
    "sample_data = full_country_stats[[\"GDP per capita\", 'Life satisfaction']].iloc[keep_indices]\n",
    "#missing_data = full_country_stats[[\"GDP per capita\", 'Life satisfaction']].iloc[remove_indices]\n",
    "\n",
    "sample_data.plot(kind='scatter', x=\"GDP per capita\", y='Life satisfaction', figsize=(5,3))\n",
    "plt.axis([0, 60000, 0, 10])\n",
    "position_text = {\n",
    "    \"Hungary\": (5000, 1),\n",
    "    \"Korea\": (18000, 1.7),\n",
    "    \"France\": (29000, 2.4),\n",
    "    \"Australia\": (40000, 3.0),\n",
    "    \"United States\": (52000, 3.8),\n",
    "}\n",
    "for country, pos_text in position_text.items():\n",
    "    pos_data_x, pos_data_y = sample_data.loc[country]\n",
    "    country = \"U.S.\" if country == \"United States\" else country\n",
    "    plt.annotate(country, xy=(pos_data_x, pos_data_y), xytext=pos_text,\n",
    "            arrowprops=dict(facecolor='black', width=0.5, shrink=0.1, headwidth=5))\n",
    "    plt.plot(pos_data_x, pos_data_y, \"ro\")\n",
    "#save_fig('money_happy_scatterplot')\n",
    "\n",
    "\n",
    "from sklearn import linear_model\n",
    "QaModel = linear_model.LinearRegression()\n",
    "Xsample = np.c_[sample_data[\"GDP per capita\"]]\n",
    "ysample = np.c_[sample_data[\"Life satisfaction\"]]\n",
    "QaModel.fit(Xsample, ysample)\n",
    "\n",
    "print(QaModel.coef_)\n",
    "print(QaModel.intercept_)\n",
    "\n",
    "t0 = 4.8530528 #b\n",
    "t1 = 4.91154459e-05 #a\n",
    "\n",
    "\n",
    "\n",
    "print(\"OK\")"
   ]
  },
  {
   "cell_type": "markdown",
   "id": "8e7258cb",
   "metadata": {
    "tags": []
   },
   "source": [
    "## Qa -The $\\theta$ parameters and the $R^2$ Score\n",
    "\n",
    "First we need to fit the model to our data using .fit from the sklearn.linear_model library.\\\n",
    "To extract $\\theta_0$ and $\\theta_1$, all you need to do is using .coef_ and .intercept_ on our fitted model.\\\n",
    "We can now try to predict the expected lifesatisfaction for Cyprus using .predict\\\n",
    "The R-value/score can be extracted using .score"
   ]
  },
  {
   "cell_type": "code",
   "execution_count": null,
   "id": "2d08b161",
   "metadata": {},
   "outputs": [
    {
     "name": "stdout",
     "output_type": "stream",
     "text": [
      "Theta0: [4.8530528]\n",
      "Theta1: [[4.91154459e-05]]\n"
     ]
    }
   ],
   "source": [
    "QaModel = linear_model.LinearRegression()\n",
    "QaModel.fit(Xsample,ysample)\n",
    "\n",
    "#intercept - Theta 0\n",
    "print(\"Theta0: \" + str(QaModel.intercept_))\n",
    "\n",
    "#coefficient - Theta 1\n",
    "print(\"Theta1: \" + str(QaModel.coef_))"
   ]
  },
  {
   "cell_type": "code",
   "execution_count": null,
   "id": "a922e92a",
   "metadata": {},
   "outputs": [
    {
     "name": "stdout",
     "output_type": "stream",
     "text": [
      "Predicted lifesatisfaction for Cyprus: [[5.96242338]]\n",
      "Score: 0.734441435543703\n"
     ]
    }
   ],
   "source": [
    "#Trying to predict the lifesatisfaction for Cyprus: \n",
    "\n",
    "Xnew = [[22587]]\n",
    "print(\"Predicted lifesatisfaction for Cyprus: \" + str(QaModel.predict(Xnew)))\n",
    "\n",
    "#score - R værdi\n",
    "print(\"Score: \" + str(QaModel.score(Xsample, ysample)))"
   ]
  },
  {
   "cell_type": "markdown",
   "id": "f0997922",
   "metadata": {
    "tags": []
   },
   "source": [
    "#### Questions answered\n",
    "\n",
    "The $R^2$ value is a calculated value, which tells us how good the linear regression can predict the y value to X.\\\n",
    "\n",
    "The $R^2$ is typically between 0-1, however it can be negative value if the wrong model was chosen, or if wrong constraints were applied by mistake.\\\n",
    "    \n",
    "Its is best to have a high score, which implies that the regression line fits the data relatively well."
   ]
  },
  {
   "cell_type": "markdown",
   "id": "4618fb22",
   "metadata": {
    "tags": []
   },
   "source": [
    "## Qb - Using k-Nearest Neighbors\n",
    "\n",
    "Here we try to change the linear regression model to a `sklearn.neighbors.KNeighborsRegressor` with a k-value of 3. We will now try to rerun the same experiment as when we used the linear regression model and compare the results."
   ]
  },
  {
   "cell_type": "code",
   "execution_count": null,
   "id": "f11f5b31",
   "metadata": {
    "tags": []
   },
   "outputs": [
    {
     "name": "stdout",
     "output_type": "stream",
     "text": [
      "Predicted lifesatisfaction for Cyprus: [[5.76666667]]\n",
      "Score: 0.8525732853499179\n"
     ]
    }
   ],
   "source": [
    "from sklearn.neighbors import KNeighborsRegressor\n",
    "\n",
    "#We create a KNeighborsRegressor with k=3\n",
    "k=3\n",
    "QbModel3 = KNeighborsRegressor(n_neighbors=k)\n",
    "\n",
    "#We fit the data to the new model and predicts the lifesatisfaction for Cyprus using its GDP per capita\n",
    "QbModel3.fit(Xsample, ysample)\n",
    "print(\"Predicted lifesatisfaction for Cyprus: \" + str(QbModel3.predict(Xnew)))\n",
    "\n",
    "print(\"Score: \" + str(QbModel3.score(Xsample, ysample)))"
   ]
  },
  {
   "cell_type": "markdown",
   "id": "c8d07979",
   "metadata": {},
   "source": [
    "#### Questions answered\n",
    "The k-nearest neighbors estimate for Cyprus is 5.77 which is lower than the linear regression 5.96 prediction.\n",
    "\n",
    "The score method is exactly the same as when using the linear regression model. The input values are different and thats all.\n",
    "\n",
    "Linear Regressor\n",
    "https://scikit-learn.org/stable/modules/generated/sklearn.linear_model.LinearRegression.html#sklearn.linear_model.LinearRegression.score\n",
    "\n",
    "k-nearest neighbor regressor\n",
    "https://scikit-learn.org/stable/modules/generated/sklearn.neighbors.KNeighborsRegressor.html?highlight=neighbors#sklearn.neighbors.KNeighborsRegressor.score\n",
    "\n",
    "It uses the same scoring method as stated: \"The R2 score used when calling score on a regressor usesmultioutput='uniform_average' from version 0.23\""
   ]
  },
  {
   "cell_type": "markdown",
   "id": "c2a86fc8",
   "metadata": {
    "tags": []
   },
   "source": [
    "## Qc - Tuning Parameter for k-Nearest Neighbors and A Sanity Check\n",
    "\n",
    "Now we will try to produce some extra KNN-models with different K-values, so we can compare what the effect this has on the model. We will try to plot these models in the same graph and use this to decide whether or not the model is fitting the data."
   ]
  },
  {
   "cell_type": "code",
   "execution_count": null,
   "id": "20e38eac",
   "metadata": {
    "tags": []
   },
   "outputs": [
    {
     "name": "stdout",
     "output_type": "stream",
     "text": [
      "Score using K=1: 1.0\n"
     ]
    },
    {
     "data": {
      "text/plain": [
       "<matplotlib.legend.Legend at 0x1a0152e1d90>"
      ]
     },
     "execution_count": 5,
     "metadata": {},
     "output_type": "execute_result"
    },
    {
     "data": {
      "image/png": "[encoded data removed]",
      "text/plain": [
       "<Figure size 720x432 with 1 Axes>"
      ]
     },
     "metadata": {
      "needs_background": "light"
     },
     "output_type": "display_data"
    }
   ],
   "source": [
    "sample_data.plot(kind='scatter', x=\"GDP per capita\", y='Life satisfaction', figsize=(10,6))\n",
    "plt.axis([0, 60000, 4, 8])\n",
    "\n",
    "# create an test matrix M, with the same dimensionality as X, and in the range [0;60000] \n",
    "# and a step size of your choice\n",
    "m=np.linspace(0, 60000, 1000)\n",
    "M=np.empty([m.shape[0],1])\n",
    "M[:,0]=m\n",
    "\n",
    "# Trying different k values:\n",
    "QbModel1 = KNeighborsRegressor(n_neighbors=1)\n",
    "QbModel10 = KNeighborsRegressor(n_neighbors=10)\n",
    "\n",
    "QbModel1.fit(Xsample, ysample)\n",
    "QbModel10.fit(Xsample, ysample)\n",
    "\n",
    "# from this test M data, predict the y values via the lin.reg. and k-nearest models\n",
    "y_pred_lin = QaModel.predict(M)\n",
    "y_pred_knn1 = QbModel1.predict(M)   # ASSUMING the variable name 'knn' of your KNeighborsRegressor \n",
    "y_pred_knn3 = QbModel3.predict(M)\n",
    "y_pred_knn10 = QbModel10.predict(M)\n",
    "\n",
    "print(\"Score using K=1: \" + str(QbModel1.score(Xsample, ysample)))\n",
    "\n",
    "# use plt.plot to plot x-y into the sample_data plot..\n",
    "plt.plot(m, y_pred_lin, \"g\", label = 'Linear regression')\n",
    "plt.plot(m, y_pred_knn1, \"r\", label = 'K = 1')\n",
    "plt.plot(m, y_pred_knn3, \"y\", label = 'K = 3')\n",
    "plt.plot(m, y_pred_knn10, \"b\", label = 'K = 10')\n",
    "plt.legend()\n"
   ]
  },
  {
   "cell_type": "markdown",
   "id": "0cefb74e",
   "metadata": {},
   "source": [
    "#### Questions answered\n",
    "Choosing a K-value of 1 produces a score of 1. This is basically a moving average filter with a value of 1, which is why there are direct straight lines between the samples.\n",
    "This also mean that a K-value of 1 would be a bad fit of the data even though the score = 1."
   ]
  },
  {
   "cell_type": "markdown",
   "id": "4d792985",
   "metadata": {},
   "source": [
    "## Qd - Trying out a Neural Network\n",
    "\n",
    "Now we will try to use a neural network to train a model which can be fitted to the data. We will use the MLPRegressor from Scikit-learn.\n",
    "We will then try to predict a value for the lifesatisfaction of Cyprus and find the score value.\n",
    "\n",
    "Can the `MLPRegressor` score function be compared with the linear and KNN-scores?"
   ]
  },
  {
   "cell_type": "code",
   "execution_count": null,
   "id": "8d3a0cd6",
   "metadata": {
    "tags": []
   },
   "outputs": [
    {
     "name": "stdout",
     "output_type": "stream",
     "text": [
      "Predicted lifesatisfaction for Cyprus using MLP: [4.07671125]\n",
      "Score using MLP -3.6741440524090523\n"
     ]
    },
    {
     "data": {
      "image/png": "[encoded data removed]",
      "text/plain": [
       "<Figure size 432x288 with 1 Axes>"
      ]
     },
     "metadata": {
      "needs_background": "light"
     },
     "output_type": "display_data"
    }
   ],
   "source": [
    "from sklearn.neural_network import MLPRegressor\n",
    "\n",
    "# Setup MLPRegressor\n",
    "mlp = MLPRegressor( hidden_layer_sizes=(10,), solver='adam', activation='relu', tol=1E-5, max_iter=100000, verbose=False)\n",
    "mlp.fit(Xsample, ysample.ravel())\n",
    "\n",
    "# lets make a MLP regressor prediction and redo the plots\n",
    "y_pred_mlp = mlp.predict(M)\n",
    "\n",
    "plt.plot(m, y_pred_lin, \"r\")\n",
    "plt.plot(m, y_pred_knn3, \"b\")\n",
    "plt.plot(m, y_pred_mlp, \"y\")\n",
    "\n",
    "print(\"Predicted lifesatisfaction for Cyprus using MLP: \" + str(mlp.predict(Xnew)))\n",
    "print(\"Score using MLP \" + str(mlp.score(Xsample, ysample)))"
   ]
  },
  {
   "cell_type": "markdown",
   "id": "abf2ee26",
   "metadata": {},
   "source": [
    "#### Questions answered\n",
    "\n",
    "Sometimes the MLPRregressor produces a garbage regression which is totally useless. However when it has produced a 'decent' regression it is still performing very poorly compared to the linear regressor and the KNN regressor. Comparing the score for the MLP to the linear and KNN-scores, the score is negative, which also indicates that the model is poorly designed to predict the expected lifesatisfaction for a given GDP per capita."
   ]
  },
  {
   "cell_type": "markdown",
   "id": "37112ef7",
   "metadata": {},
   "source": [
    " "
   ]
  },
  {
   "cell_type": "markdown",
   "id": "fc0132c0",
   "metadata": {},
   "source": [
    " "
   ]
  },
  {
   "cell_type": "markdown",
   "id": "4c132151",
   "metadata": {},
   "source": [
    " "
   ]
  },
  {
   "cell_type": "markdown",
   "id": "60951a07",
   "metadata": {},
   "source": [
    "# Exercise 2 - Modules and Packages in Python"
   ]
  },
  {
   "cell_type": "markdown",
   "id": "68fcd3d8",
   "metadata": {},
   "source": [
    "## Qa - Load and test the libitmal module\n",
    "From GITMAL we import libitmal utils"
   ]
  },
  {
   "cell_type": "code",
   "execution_count": null,
   "id": "7c877140",
   "metadata": {},
   "outputs": [
    {
     "name": "stdout",
     "output_type": "stream",
     "text": [
      "TestPrintMatrix...(no regression testing)\n",
      "X=[[   1.    2.]\n",
      "   [   3. -100.]\n",
      "   [   1.   -1.]]\n",
      "X=[[ 1.  2.]\n",
      "   ...\n",
      "   [ 1. -1.]]\n",
      "X=[[   1.\n",
      "       2.    ]\n",
      "   [   3.0001\n",
      "    -100.    ]\n",
      "   [   1.\n",
      "      -1.    ]]\n",
      "X=[[   1.    2.]\n",
      "   [   3. -100.]\n",
      "   [   1.   -1.]]\n",
      "OK\n",
      "TEST: OK\n",
      "ALL OK\n"
     ]
    }
   ],
   "source": [
    "from libitmal import utils\n",
    "utils.TestAll()\n"
   ]
  },
  {
   "cell_type": "markdown",
   "id": "639f82c6",
   "metadata": {},
   "source": [
    "## Qb - Create your own module, with some functions, and test it\n",
    "Now we create our own library and test module, we place it in our new directory MyMalLib and our test module is named matrixFunctions.py. We can over time collect usefull matrix functions for future use. In powershell we type the following command: setx.exe PYTHONPATH \"C:\\Users\\User\""
   ]
  },
  {
   "cell_type": "code",
   "execution_count": null,
   "id": "579921c1",
   "metadata": {},
   "outputs": [
    {
     "name": "stdout",
     "output_type": "stream",
     "text": [
      "Elements in the matrix: 6\n"
     ]
    }
   ],
   "source": [
    "from MyMalLib import matrixFunctions\n",
    "\n",
    "matrix = [[1, 4, 5],\n",
    "          [-5, 8, 9]]\n",
    "\n",
    "m = len(matrix) # Height\n",
    "n = len(matrix[0]) # Width.\n",
    "\n",
    "matrixFunctions.elementsInMatrix(m, n)"
   ]
  },
  {
   "cell_type": "markdown",
   "id": "60afba26",
   "metadata": {},
   "source": [
    "## Qc - How do you 'recompile' a module?"
   ]
  },
  {
   "cell_type": "markdown",
   "id": "c987bac1",
   "metadata": {},
   "source": [
    "a module in python can be reloaded using the import lib function: .reload(module)\n",
    "https://docs.python.org/3/library/importlib.html\n",
    "\n",
    "to reload our module the following code will be executed:"
   ]
  },
  {
   "cell_type": "code",
   "execution_count": null,
   "id": "52e0a49c",
   "metadata": {},
   "outputs": [
    {
     "data": {
      "text/plain": [
       "<module 'MyMalLib.matrixFunctions' from 'C:\\\\Users\\\\User\\\\Libs\\\\MyMalLib\\\\matrixFunctions.py'>"
      ]
     },
     "execution_count": 12,
     "metadata": {},
     "output_type": "execute_result"
    }
   ],
   "source": [
    "import importlib\n",
    "importlib.reload(matrixFunctions)"
   ]
  },
  {
   "cell_type": "markdown",
   "id": "6a8c7752",
   "metadata": {},
   "source": [
    "To reload all modules we can add two lines of code:"
   ]
  },
  {
   "cell_type": "code",
   "execution_count": null,
   "id": "addaa5fc",
   "metadata": {},
   "outputs": [],
   "source": [
    "%load_ext autoreload\n",
    "%autoreload"
   ]
  },
  {
   "cell_type": "markdown",
   "id": "7a134ebb",
   "metadata": {
    "tags": []
   },
   "source": [
    "## Qe - Extend the class with some public and private functions and member varialbes? "
   ]
  },
  {
   "cell_type": "markdown",
   "id": "bb4811e5",
   "metadata": {},
   "source": [
    "Here we would like to extend the example class with some public and private functions, including some membervariables. "
   ]
  },
  {
   "cell_type": "code",
   "execution_count": null,
   "id": "1f04ef48",
   "metadata": {},
   "outputs": [
    {
     "name": "stdout",
     "output_type": "stream",
     "text": [
      "This is a message inside the class.\n"
     ]
    },
    {
     "ename": "AttributeError",
     "evalue": "'MyClass' object has no attribute '_myfunprivate'",
     "output_type": "error",
     "traceback": [
      "\u001b[1;31m---------------------------------------------------------------------------\u001b[0m",
      "\u001b[1;31mAttributeError\u001b[0m                            Traceback (most recent call last)",
      "Input \u001b[1;32mIn [15]\u001b[0m, in \u001b[0;36m<cell line: 14>\u001b[1;34m()\u001b[0m\n\u001b[0;32m     12\u001b[0m myobjectx\u001b[38;5;241m.\u001b[39mmyfun()\n\u001b[0;32m     13\u001b[0m myobjectx\u001b[38;5;241m.\u001b[39mmyvar\n\u001b[1;32m---> 14\u001b[0m \u001b[43mmyobjectx\u001b[49m\u001b[38;5;241;43m.\u001b[39;49m\u001b[43m_myfunprivate\u001b[49m(\u001b[38;5;28mself\u001b[39m)\n\u001b[0;32m     15\u001b[0m myobjectx\u001b[38;5;241m.\u001b[39m_myvarprivate\n",
      "\u001b[1;31mAttributeError\u001b[0m: 'MyClass' object has no attribute '_myfunprivate'"
     ]
    }
   ],
   "source": [
    "class MyClass:\n",
    "    myvar = \"blah\"\n",
    "    __myvarprivate = \"avicii\"\n",
    "\n",
    "    def myfun(self):\n",
    "        print(\"This is a message inside the class.\")\n",
    "    \n",
    "    def __myfunprivate(self):\n",
    "        print(\"This is a private function for MyClass.\")\n",
    "        \n",
    "myobjectx = MyClass()\n",
    "myobjectx.myfun()\n",
    "myobjectx.myvar\n",
    "myobjectx._myfunprivate(self)\n",
    "myobjectx._myvarprivate             "
   ]
  },
  {
   "cell_type": "markdown",
   "id": "e1b61227",
   "metadata": {},
   "source": [
    "The above code will throw an error because we a trying to access a private function/variable outside the class.\n",
    "\n",
    "Practically, python doesn’t have anything called private member variable, but it can be created by adding \"__\" before a function or variable.\n",
    "\n",
    "The self parameter of the function means the current instance of the class and is used to access variables that belongs to the class. \n",
    "It is important to remember the self parameter otherwis an error occurs like in the example below."
   ]
  },
  {
   "cell_type": "code",
   "execution_count": null,
   "id": "6a5c38eb-b633-4d13-a2d0-e9d1f50aea49",
   "metadata": {},
   "outputs": [],
   "source": [
    "class MyClass:\n",
    "    def myfun():\n",
    "        print(\"This is a message inside the class.\")\n",
    "    \n",
    "myobjectx = MyClass()\n",
    "myobjectx.myfun()"
   ]
  },
  {
   "cell_type": "markdown",
   "id": "9a23224c",
   "metadata": {},
   "source": [
    "## Qf - Extend the class with a Constructor\n"
   ]
  },
  {
   "cell_type": "markdown",
   "id": "d51b8f50-2e28-40d0-b5e9-2b9de2c45b0a",
   "metadata": {},
   "source": [
    "We will now try to extend the class with a constructor. "
   ]
  },
  {
   "cell_type": "code",
   "execution_count": null,
   "id": "52cfc51f-92f0-4d67-99a1-e84ba15dadf5",
   "metadata": {},
   "outputs": [],
   "source": [
    "class MyClass:\n",
    "    myvar = \"blah\"\n",
    "    __myvarprivate = \"avicii\"\n",
    "\n",
    "    def __init__(self, msg1, msg2):\n",
    "        self.msg1 = msg1\n",
    "        self.msg2 = msg2\n",
    "    \n",
    "    def myfun(self):\n",
    "        print(\"This is message 1: \", self.msg1)\n",
    "        print(\"This is message 2: \", self.msg2)\n",
    "    \n",
    "    def __myfunprivate(self):\n",
    "        print(\"This is a private function for MyClass.\")\n",
    "        \n",
    "myobjectx = MyClass(\"Hello\", \"World\")\n",
    "myobjectx.myfun()"
   ]
  },
  {
   "cell_type": "markdown",
   "id": "87782f55-39eb-447f-a89d-6bc8cbf3e62c",
   "metadata": {},
   "source": [
    "An seen in the codesnippet above, a constructor is created using `def __init_(self, parameter1, parameter2, ..,):`\\\n",
    "In python there is no need for a destructor as python has its own garbage collector which can handle the memory management for us. Though if we wish to manually handle the memory, we can create a destructor like this: `def __del__(self)`:"
   ]
  },
  {
   "cell_type": "markdown",
   "id": "ef614ab9",
   "metadata": {},
   "source": [
    "## Qg - Extend the class with a to-string function"
   ]
  },
  {
   "cell_type": "markdown",
   "id": "d98d9806-e02e-465b-8341-fa6253d3eb62",
   "metadata": {},
   "source": [
    "We will now try and extend the class with a to-string function. We want to have similar functionality as in C# string serialize, which is builtin standard function. The pythononic way is to use str() method. We make a function called __str__(), which gets called when we print an class object."
   ]
  },
  {
   "cell_type": "code",
   "execution_count": null,
   "id": "de9f391e-bbfc-42d5-a628-80871f7fe220",
   "metadata": {},
   "outputs": [],
   "source": [
    "class MyClass:\n",
    "    def __repr__(self):\n",
    "        return \"Test()\"\n",
    "    def __str__(self):\n",
    "        return \"text that is printed from class object\"\n",
    "\n",
    "myObject = MyClass()\n",
    "print(myObject)"
   ]
  },
  {
   "cell_type": "markdown",
   "id": "67608451-99bd-4a1f-9db8-7d64f100abbf",
   "metadata": {},
   "source": [
    " "
   ]
  },
  {
   "cell_type": "markdown",
   "id": "610ec8b9-bae7-49e3-9e4b-37439c141db2",
   "metadata": {},
   "source": [
    " "
   ]
  },
  {
   "cell_type": "markdown",
   "id": "0663c0b4-ec68-4dab-a79e-fe19e71e272a",
   "metadata": {},
   "source": [
    " "
   ]
  },
  {
   "cell_type": "markdown",
   "id": "ffa9c8cc-81d7-49d3-9f5b-c327a147a125",
   "metadata": {},
   "source": [
    "# Exercise 3 - Cost Function\n",
    "In the following exercise we will take a deep look into the implementation of the cost function ($J$). We will implement our own $\\norm{1]$ and $\\norm{2]$, which we will then later use in the implementation of the RMSE and MAE functions. Furthermore we will add some robustness to the implementation, which makes it possible to catch errors as soon as possible."
   ]
  },
  {
   "cell_type": "markdown",
   "id": "f7104720-6493-431e-a036-5a0a2705a99d",
   "metadata": {},
   "source": [
    "## Qa - Given the following $\\mathbf{x}^{(i)}$'s, construct and print the $\\mathbf X$ matrix in python."
   ]
  },
  {
   "cell_type": "markdown",
   "id": "130fbfee-8e18-497b-b1c8-740ce23c8151",
   "metadata": {},
   "source": [
    "$$\n",
    "    \\ar{rl}{\n",
    "      \\bx\\pown{1} &= \\ac{c}{ 1, 2, 3}^T \\\\\n",
    "      \\bx\\pown{2} &= \\ac{c}{ 4, 2, 1}^T \\\\\n",
    "      \\bx\\pown{3} &= \\ac{c}{ 3, 8, 5}^T \\\\\n",
    "      \\bx\\pown{4} &= \\ac{c}{-9,-1, 0}^T}\n",
    "$$"
   ]
  },
  {
   "cell_type": "code",
   "execution_count": null,
   "id": "2787ef18-a567-4861-99ae-f6c68129fc1f",
   "metadata": {},
   "outputs": [],
   "source": [
    "import numpy as np\n",
    "\n",
    "y = np.array([1,2,3,4]) # NOTE:  you'll need this later\n",
    "x = np.array([[1,2,3],\n",
    "              [4,2,1],\n",
    "              [3,8,5],\n",
    "              [-9,-1,0]])\n",
    "\n",
    "print(\"x = \\n\" + str(x))\n"
   ]
  },
  {
   "cell_type": "markdown",
   "id": "5c8423ef-2a25-44a5-951a-8d2544ff07b0",
   "metadata": {},
   "source": [
    "We see that the matrix array is constructed and with the help from numpy, printed visually as a matrix."
   ]
  },
  {
   "cell_type": "markdown",
   "id": "bb6a6a66-c124-4626-bd62-86a6018adee1",
   "metadata": {},
   "source": [
    " "
   ]
  },
  {
   "cell_type": "markdown",
   "id": "1c074bf3-922c-4c6c-98e7-38b144e4cec1",
   "metadata": {},
   "source": [
    "## Qb - Implement the $\\norm{1}$ and $\\norm{2}$ norms for vectors in python.\n",
    "A norm is a function that takes an vector input and outputs a scalar value which can be interpeted as the 'length', 'size', 'magnitude'. \n",
    "\n",
    "We have $\\norm{2}$, which is used to calculate the distance of a vector.\n",
    "\n",
    "$$\n",
    "    \\norm{2}:~~ ||\\bx||_2 = \\left( \\sum_{i=1}^{n} |x_i|^2 \\right)^{1/2}\\\\\n",
    "$$\n",
    "$\\lVert x \\rVert$\n",
    "We also have $\\norm{1}$ which is also called 'City-block' but is not as popular as $\\norm{2}$.\n",
    "\n",
    "$$\n",
    "    \\norm{1}:~~ ||x||_1 = \\sum_i |x_i|\n",
    "$$\n",
    "\n",
    "We will implement both $\\norm{1}$ and $\\norm{2}$ as python functions. We create a new python file called vectorFunctions.py in $MyMalLib$."
   ]
  },
  {
   "cell_type": "code",
   "execution_count": null,
   "id": "bb3cab0f-b52c-4715-97b4-c97358f9ebe0",
   "metadata": {},
   "outputs": [],
   "source": [
    "from math import fabs\n",
    "\n",
    "def L1(arr):\n",
    "    sum = 0\n",
    "    for x in arr:\n",
    "        sum += (x**2)**0.5 \n",
    "    return sum\n",
    "\n",
    "def L2(arr):\n",
    "    sum = 0\n",
    "    for i in arr:\n",
    "        sum += i**2 #sum^2\n",
    "    return sum**0.5\n",
    "\n",
    "def L2Dot(arr):\n",
    "    return np.dot(arr, arr)**0.5\n",
    "\n",
    "\n",
    "# TEST vectors: here I test your implementation...calling your L1() and L2() functions\n",
    "tx=np.array([1, 2, 3, -1])\n",
    "ty=np.array([3,-1, 4,  1])\n",
    "\n",
    "expected_d1=8.0\n",
    "expected_d2=4.242640687119285\n",
    "\n",
    "d1=L1(tx-ty)\n",
    "d2=L2(tx-ty)\n",
    "\n",
    "print(f\"tx-ty={tx-ty}, \\nd1-expected_d1={d1-expected_d1}, \\nd2-expected_d2={d2-expected_d2}\")\n",
    "\n",
    "eps=1E-9\n",
    "assert fabs(d1-expected_d1)<eps, \"L1 dist seems to be wrong\" \n",
    "assert fabs(d2-expected_d2)<eps, \"L2 dist seems to be wrong\" \n",
    "\n",
    "print(\"OK(part-1)\")\n"
   ]
  },
  {
   "cell_type": "code",
   "execution_count": null,
   "id": "f20a1a13-62da-4160-b2b4-530aff45b9f7",
   "metadata": {},
   "outputs": [],
   "source": [
    "# comment-in once your L2Dot fun is ready...\n",
    "d2dot=L2Dot(tx-ty)\n",
    "print(\"d2dot-expected_d2=\",d2dot-expected_d2)\n",
    "assert fabs(d2dot-expected_d2)<eps, \"L2Ddot dist seem to be wrong\" \n",
    "print(\"OK(part-2)\")"
   ]
  },
  {
   "cell_type": "markdown",
   "id": "fac14fe1-cc61-4bf3-a439-c363db67d90d",
   "metadata": {},
   "source": [
    "## Qc - Construct the Root Mean Square Error (RMSE) function"
   ]
  },
  {
   "cell_type": "markdown",
   "id": "20ed9e99-2926-452e-bfe0-54faf8797316",
   "metadata": {},
   "source": [
    "We will now construct the RMSE function ourselfs. Then we will pass our x and y array into the function to calculate the RMSE.\\\n",
    "$$RMSE = \\frac{1}{n} ||\\by\\st{pred} - \\by\\st{true} ||_2^2$$\n",
    "Where $\\by\\st{pred} = L2$, which means we will use our own L2 function to calculate the RMSE"
   ]
  },
  {
   "cell_type": "code",
   "execution_count": null,
   "id": "3733e412-a19f-4bd3-89c6-901a87341fab",
   "metadata": {},
   "outputs": [],
   "source": [
    "def RMSE(x, y):\n",
    "    rmse = ((1/x.shape[0])*(L2(x-y)**2))**0.5\n",
    "    return rmse"
   ]
  },
  {
   "cell_type": "code",
   "execution_count": null,
   "id": "03c90a36-fc73-4410-bb08-ea8ac07505f8",
   "metadata": {},
   "outputs": [],
   "source": [
    "# Dummy h function:\n",
    "def h(X):    \n",
    "    if X.ndim!=2:\n",
    "        raise ValueError(\"excpeted X to be of ndim=2, got ndim=\",X.ndim)\n",
    "    if X.shape[0]==0 or X.shape[1]==0:\n",
    "        raise ValueError(\"X got zero data along the 0/1 axis, cannot continue\")\n",
    "    return X[:,0]\n",
    "\n",
    "# Calls your RMSE() function:\n",
    "r=RMSE(h(x),y)\n",
    "\n",
    "# TEST vector:\n",
    "eps=1E-9\n",
    "expected=6.57647321898295\n",
    "print(f\"RMSE={r}, diff={r-expected}\")\n",
    "assert fabs(r-expected)<eps, \"your RMSE dist seems to be wrong\" \n",
    "\n",
    "print(\"OK\")"
   ]
  },
  {
   "cell_type": "markdown",
   "id": "838bd88a-d3f4-481b-b418-6ff39c0d4cfb",
   "metadata": {
    "tags": []
   },
   "source": [
    "## Qd - Similar construct the Mean Absolute Error (MAE) function (Equation 2-2 [HOML]) and evaluate it."
   ]
  },
  {
   "cell_type": "markdown",
   "id": "98906c74-7cae-4c92-8691-5045f127ff8d",
   "metadata": {},
   "source": [
    "Now we will try ti implement the MAE function. The MAE function is quite similar to the RMSE function. The only difference is to replace L2 with L1, which means that $\\by\\st{pred} = L1$ and that it is not to the power of 2. $$MAE = \\frac{1}{n} ||\\by\\st{pred} - \\by\\st{true} ||$$"
   ]
  },
  {
   "cell_type": "code",
   "execution_count": null,
   "id": "04f7bc35-dbc6-412c-b292-a49314790530",
   "metadata": {},
   "outputs": [],
   "source": [
    "def MAE(x,y):\n",
    "    mae = (((1/x.shape[0])*(L1(x-y)))**2)**0.5\n",
    "    return mae\n",
    "\n",
    "# Calls your MAE function:\n",
    "r=MAE(h(x), y)\n",
    "\n",
    "# TEST vector:\n",
    "expected=3.75\n",
    "print(f\"MAE={r}, diff={r-expected}\")\n",
    "assert fabs(r-expected)<eps, \"MAE dist seems to be wrong\" \n",
    "\n",
    "print(\"OK\")"
   ]
  },
  {
   "cell_type": "markdown",
   "id": "4e2c4bdc-9c40-48a3-8941-bb1cca81020d",
   "metadata": {},
   "source": [
    "## Qe - Robust Code"
   ]
  },
  {
   "cell_type": "markdown",
   "id": "95d75e27-0948-4472-8f7b-bd9311383030",
   "metadata": {},
   "source": [
    "We will now add some robustness to our code. This is done by adding some error checking during execution of our functions. `assert` is a good way to do this."
   ]
  },
  {
   "cell_type": "code",
   "execution_count": null,
   "id": "cc7be89b-d979-4dde-a5d7-053dbc06d22a",
   "metadata": {},
   "outputs": [
    {
     "ename": "NameError",
     "evalue": "name 'h' is not defined",
     "output_type": "error",
     "traceback": [
      "\u001b[1;31m---------------------------------------------------------------------------\u001b[0m",
      "\u001b[1;31mNameError\u001b[0m                                 Traceback (most recent call last)",
      "Input \u001b[1;32mIn [25]\u001b[0m, in \u001b[0;36m<cell line: 23>\u001b[1;34m()\u001b[0m\n\u001b[0;32m     20\u001b[0m     \u001b[38;5;28;01mreturn\u001b[39;00m rmse\n\u001b[0;32m     22\u001b[0m \u001b[38;5;66;03m# Calls your RMSE() function:\u001b[39;00m\n\u001b[1;32m---> 23\u001b[0m r\u001b[38;5;241m=\u001b[39mRMSE(\u001b[43mh\u001b[49m(x),y)\n\u001b[0;32m     25\u001b[0m \u001b[38;5;66;03m# TEST vector:\u001b[39;00m\n\u001b[0;32m     26\u001b[0m eps\u001b[38;5;241m=\u001b[39m\u001b[38;5;241m1E-9\u001b[39m\n",
      "\u001b[1;31mNameError\u001b[0m: name 'h' is not defined"
     ]
    }
   ],
   "source": [
    "def L1(arr):\n",
    "    assert arr.ndim==1, \"L1 input must be a vector\"\n",
    "    sum = 0\n",
    "    for x in arr:\n",
    "        sum += (x**2)**0.5 \n",
    "    return sum\n",
    "\n",
    "def L2(arr):\n",
    "    assert arr.ndim==1, \"L2 input must be a vector\"\n",
    "    sum = 0\n",
    "    for i in arr:\n",
    "        sum += i**2 #sum^2\n",
    "    return sum**0.5\n",
    "\n",
    "\n",
    "def RMSE(x, y):\n",
    "    assert x.ndim==1, \"The first input of RMSE must be a vector\"\n",
    "    assert y.ndim==1, \"The second input of RMSE must be a vector\"\n",
    "    rmse = ((1/x.shape[0])*(L2(x-y)**2))**0.5\n",
    "    return rmse\n",
    "\n",
    "# Calls your RMSE() function:\n",
    "r=RMSE(h(x),y)\n",
    "\n",
    "# TEST vector:\n",
    "eps=1E-9\n",
    "expected=6.57647321898295\n",
    "print(f\"RMSE={r}, diff={r-expected}\")\n",
    "assert fabs(r-expected)<eps, \"your RMSE dist seems to be wrong\" \n",
    "\n",
    "print(\"OK\")"
   ]
  },
  {
   "cell_type": "code",
   "execution_count": null,
   "id": "6ba6a0f8-f340-4c85-8b3c-e1bf6ef4c299",
   "metadata": {},
   "outputs": [],
   "source": [
    "def MAE(x,y):\n",
    "    assert x.ndim==1, \"The first input of MAE must be a vector\"\n",
    "    assert y.ndim==1, \"The second input of MAE must be a vector\"\n",
    "    mae = (((1/x.shape[0])*(L1(x-y)))**2)**0.5\n",
    "    return mae\n",
    "\n",
    "\n",
    "# Calls your MAE function:\n",
    "r=MAE(h(x), y)\n",
    "\n",
    "# TEST vector:\n",
    "expected=3.75\n",
    "print(f\"MAE={r}, diff={r-expected}\")\n",
    "assert fabs(r-expected)<eps, \"MAE dist seems to be wrong\" \n",
    "\n",
    "print(\"OK\")"
   ]
  },
  {
   "cell_type": "markdown",
   "id": "6db6b430-16d8-4bde-85e3-4be13702e2c2",
   "metadata": {},
   "source": [
    "## Qf  - Conclusion"
   ]
  },
  {
   "cell_type": "markdown",
   "id": "dab9e118-bd4c-4b56-a440-3c9a60acf74e",
   "metadata": {},
   "source": [
    "By doing the exercises in this chapter, we get a far better understanding of how a loss function works and how it can be implemented. Depending on the dataset you can get different results from your chosen cost function, which means you have to decide which would be the best to use on your actual data. We also got a better understanding of how numpy handles arrays, which is very beneficial for further machine learning concepts. Overall we got more familiar with python and some \"good to know\" tricks and also how to make robust code by error checking different places in the code."
   ]
  },
  {
   "cell_type": "markdown",
   "id": "7fb922ed-81fe-4e1d-a35b-38652b546db2",
   "metadata": {},
   "source": [
    " "
   ]
  },
  {
   "cell_type": "markdown",
   "id": "88c58329-3269-4f41-9d41-244c31d81a3c",
   "metadata": {},
   "source": [
    " "
   ]
  },
  {
   "cell_type": "markdown",
   "id": "2b516e91-1bb1-47ac-8097-3805416671cf",
   "metadata": {},
   "source": [
    "  "
   ]
  },
  {
   "cell_type": "markdown",
   "id": "46f70047-70ed-415a-8ca5-3ab5a7c38a11",
   "metadata": {},
   "source": [
    "<a id=’ex_4’></a>\n",
    "# Exercise 4 - Binary-classifier with fit-predict interface\n",
    "This exercise introduces the binary classifier, which we use to identify "
   ]
  },
  {
   "cell_type": "markdown",
   "id": "6033b8e5-0726-4471-af10-4801e24e7868",
   "metadata": {},
   "source": [
    "## Qa - Load and display the MNIST data"
   ]
  },
  {
   "cell_type": "code",
   "execution_count": null,
   "id": "5858f49a-d178-40fd-855e-e48a58104c56",
   "metadata": {},
   "outputs": [
    {
     "data": {
      "image/png": "[encoded data removed]",
      "text/plain": [
       "<Figure size 432x288 with 1 Axes>"
      ]
     },
     "metadata": {
      "needs_background": "light"
     },
     "output_type": "display_data"
    }
   ],
   "source": [
    "# TODO: add your code here..\n",
    "from sklearn.datasets import fetch_openml\n",
    "X, y = fetch_openml('mnist_784', return_X_y=True, as_frame=False)\n",
    "#https://scikit-learn.org/stable/auto_examples/linear_model/plot_sparse_logistic_regression_mnist.html#sphx-glr-auto-examples-linear-model-plot-sparse-logistic-regression-mnist-py\n",
    "\n",
    "\n",
    "#-----------------MNIST-LOADER-FUNCTION------------------\n",
    "def MNIST_GetDataSet():\n",
    "    from sklearn.datasets import fetch_openml\n",
    "    X, y = fetch_openml('mnist_784', return_X_y=True, cache=False, as_frame=False) #load data\n",
    "    return X / 255. , y \n",
    "\n",
    "#matplotlib inline\n",
    "def MNIST_PlotDigit(data):\n",
    "    import matplotlib\n",
    "    import matplotlib.pyplot as plt\n",
    "    image = data.reshape(28, 28)\n",
    "    plt.imshow(image, cmap = matplotlib.cm.binary, interpolation=\"nearest\")\n",
    "    plt.axis(\"off\")\n",
    "\n",
    "X, y = MNIST_GetDataSet()\n",
    "\n",
    "MNIST_PlotDigit(X[28])"
   ]
  },
  {
   "cell_type": "code",
   "execution_count": null,
   "id": "82bd9869-7de1-455b-bf5f-8c8460cf8a37",
   "metadata": {},
   "outputs": [],
   "source": [
    "\n",
    "sgd_classifier = SGDClassifier(random_state=69)\n",
    "#sgd_classifier.fit(X_train, y_train_2)\n",
    "\n",
    "print(f\"Prediction of X[0] = {sgd_classifier.predict([X[0]])}\") # Skal returnere array([true]), da X[0] er et 5-tal\n",
    "print(f\"Prediction of X[2] = {sgd_classifier.predict([X[2]])}\") # Skal returnere array([false]), da X[2] er et 4-tal"
   ]
  },
  {
   "cell_type": "markdown",
   "id": "748054ba-cb2d-4fce-b0cd-615f76788b6a",
   "metadata": {
    "tags": []
   },
   "source": [
    "## Qb - Add a Stochastic Gradient Decent [SGD] Classifier"
   ]
  },
  {
   "cell_type": "code",
   "execution_count": null,
   "id": "43d9c258-9453-484f-a126-05d8203b5cda",
   "metadata": {},
   "outputs": [
    {
     "name": "stdout",
     "output_type": "stream",
     "text": [
      "[False  True False ... False  True False]\n",
      "X.shape=(70000, 784)\n",
      "X.shape=(70000, 784)\n"
     ]
    }
   ],
   "source": [
    "#train test function\n",
    "from sklearn.linear_model import SGDClassifier\n",
    "\n",
    "from sklearn.model_selection import train_test_split\n",
    "X_train, X_test, y_train, y_test = train_test_split(X, y, random_state=69)\n",
    "\n",
    "y_train_2 = (y_train == '2') # True for all 2s, False for all other digits\n",
    "y_test_2 = (y_test == '2')\n",
    "\n",
    "print(y_train_2)\n",
    "#print(X_train)\n",
    "\n",
    "print(f\"X.shape={X.shape}\")\n",
    "if X.ndim == 3:\n",
    "    assert y.ndim == 1\n",
    "    X = X.reshape((X.shape[0], X.shape[1]*X.shape[2]))\n",
    "assert X.ndim == 2   \n",
    "print(f\"X.shape={X.shape}\")\n"
   ]
  },
  {
   "cell_type": "markdown",
   "id": "4774b28b-72ce-4ff2-b3f5-50c9d082cac3",
   "metadata": {},
   "source": [
    "# Exercise 5 - Performance Metrics\n",
    "Indledning til opgave\n",
    "\n",
    "| NAME | SYMBOL | ALIAS |\n",
    "| :---: | :---: | :---: |\n",
    "|true positives | $TP$ | |\n",
    "|true negatives | $TN$ | |\n",
    "|false positives| $FP$ | type I error| \n",
    "|false negatives| $FN$ | type II error |"
   ]
  },
  {
   "cell_type": "markdown",
   "id": "b1c64733-301c-4076-bb10-52ce80eaee7a",
   "metadata": {},
   "source": [
    "## Qa - Implement the Accuracy function and test it on the MNIST data"
   ]
  },
  {
   "cell_type": "markdown",
   "id": "01bcc088-b9be-4467-bfec-4957917f2e6f",
   "metadata": {
    "tags": []
   },
   "source": [
    "We now implement the accuracy function and test it on the data from MNIST, for more details go to [Exercise 4](#ex_4). The Accuracy function is defined as the sum of all true predictions (true positives and true negatives) devided by the total number of samples (positive samples and negative samples). This gives a sense of accuracy of the data.\n",
    "\n",
    "#### Accuracy\n",
    "$$\n",
    "  \\ba\n",
    "      a &= \\myfrac{TP + TN}{TP + TN + FP + FN}\\\\\n",
    "        &= \\myfrac{TP + TN}{N}\\\\\n",
    "        &= \\myfrac{TP + TN}{N_P~~ + N_N} \n",
    "  \\ea\n",
    "$$"
   ]
  },
  {
   "cell_type": "markdown",
   "id": "b8506133-d64a-4e68-aa25-5157898d2fde",
   "metadata": {},
   "source": [
    "In the code we start by implementing MyAccuracy function. By looping over y_true and y_pred, we can compare them. If they are equal at index i then we increment true prediction. In the end we return true predicted divided by total samples of y_true."
   ]
  },
  {
   "cell_type": "code",
   "execution_count": 1,
   "id": "036fe753-0c77-4fc9-b8a3-2bebffe34648",
   "metadata": {},
   "outputs": [
    {
     "ename": "NameError",
     "evalue": "name 'stokastiskDegradientDecent_classifier' is not defined",
     "output_type": "error",
     "traceback": [
      "\u001b[1;31m---------------------------------------------------------------------------\u001b[0m",
      "\u001b[1;31mNameError\u001b[0m                                 Traceback (most recent call last)",
      "Input \u001b[1;32mIn [1]\u001b[0m, in \u001b[0;36m<cell line: 11>\u001b[1;34m()\u001b[0m\n\u001b[0;32m      8\u001b[0m             true_pred \u001b[38;5;241m+\u001b[39m\u001b[38;5;241m=\u001b[39m \u001b[38;5;241m1\u001b[39m\n\u001b[0;32m      9\u001b[0m     \u001b[38;5;28;01mreturn\u001b[39;00m true_pred \u001b[38;5;241m/\u001b[39m y_true\u001b[38;5;241m.\u001b[39mshape[\u001b[38;5;241m0\u001b[39m]\n\u001b[1;32m---> 11\u001b[0m y_pred_sgd \u001b[38;5;241m=\u001b[39m \u001b[43mstokastiskDegradientDecent_classifier\u001b[49m\u001b[38;5;241m.\u001b[39mpredict(X_test)\n\u001b[0;32m     12\u001b[0m y_pred_dum \u001b[38;5;241m=\u001b[39m dummy_classifier\u001b[38;5;241m.\u001b[39mpredict(X_test)\n\u001b[0;32m     14\u001b[0m y_true \u001b[38;5;241m=\u001b[39m np\u001b[38;5;241m.\u001b[39mzeros((\u001b[38;5;28mlen\u001b[39m(X_test),\u001b[38;5;241m1\u001b[39m),dtype\u001b[38;5;241m=\u001b[39m\u001b[38;5;28mbool\u001b[39m)\n",
      "\u001b[1;31mNameError\u001b[0m: name 'stokastiskDegradientDecent_classifier' is not defined"
     ]
    }
   ],
   "source": [
    "from sklearn.metrics import accuracy_score\n",
    "\n",
    "#Accuracy function\n",
    "def MyAccuracy(y_true, y_pred):\n",
    "    true_pred = 0\n",
    "    for i in y_true.shape[0]:\n",
    "        if y_true[i] == y_pred[i]: #find all the true predictions (TP+TN)\n",
    "            true_pred += 1\n",
    "    return true_pred / y_true.shape[0] #now divide with all samples (N)\n",
    "\n",
    "y_pred_sgd = stokastiskDegradientDecent_classifier.predict(X_test)\n",
    "y_pred_dum = dummy_classifier.predict(X_test)\n",
    "\n",
    "y_true = np.zeros((len(X_test),1),dtype=bool)\n",
    "\n",
    "#Check all X\n",
    "for i in range(len(X_test)):\n",
    "    if y_test[i] == '5':\n",
    "        y_true[i] = [True]\n",
    "    else:\n",
    "        y_true[i] = [False]\n",
    "        \n",
    "print(f\"accuracy_dum_sklearn = {accuracy_score(y_true, y_pred_dum)}\")\n",
    "print(f\"accuracy_sgd_sklearn = {accuracy_score(y_true, y_pred_sgd)}\")\n",
    "print(f\"accuracy_dum_my = {MyAccuracy(y_true, y_pred_dum)}\")\n",
    "print(f\"accuracy_sgd_my = {MyAccuracy(y_true, y_pred_sgd)}\")"
   ]
  },
  {
   "cell_type": "markdown",
   "id": "dca06e57-353b-441b-a9b2-261c35278930",
   "metadata": {
    "tags": []
   },
   "source": [
    "## Qb - Implement Precision, Recall and $F_1$-score and test it on the MNIST data for both the SGD and Dummy classifier models"
   ]
  },
  {
   "cell_type": "markdown",
   "id": "644beaf4-b9e6-4e0e-9adb-0bfaf2c309ff",
   "metadata": {},
   "source": [
    "We will now implement our own precision, recall and F1-score.\n",
    "\n",
    "The precision is given by: &emsp; $p = \\myfrac{TP}{TP + FP}$\n",
    "\n",
    "The recall/sensitivity is given by: &emsp; $r = \\myfrac{TP}{N_p}$\n",
    "\n",
    "The F1-score is given by: &emsp; $F_1 = \\myfrac{2}{1/p + 1/r}$"
   ]
  },
  {
   "cell_type": "code",
   "execution_count": 8,
   "id": "84b0ca86-5916-48b4-b6f4-b032a5a51f21",
   "metadata": {},
   "outputs": [
    {
     "ename": "NameError",
     "evalue": "name 'y_true' is not defined",
     "output_type": "error",
     "traceback": [
      "\u001b[1;31m---------------------------------------------------------------------------\u001b[0m",
      "\u001b[1;31mNameError\u001b[0m                                 Traceback (most recent call last)",
      "Input \u001b[1;32mIn [8]\u001b[0m, in \u001b[0;36m<cell line: 23>\u001b[1;34m()\u001b[0m\n\u001b[0;32m     20\u001b[0m \u001b[38;5;28;01mdef\u001b[39;00m \u001b[38;5;21mMyF1Score\u001b[39m(y_true, y_pred):\n\u001b[0;32m     21\u001b[0m     \u001b[38;5;28;01mreturn\u001b[39;00m (\u001b[38;5;241m2\u001b[39m\u001b[38;5;241m/\u001b[39m(\u001b[38;5;241m1\u001b[39m\u001b[38;5;241m/\u001b[39mMyPrecision(y_true, y_pred))\u001b[38;5;241m+\u001b[39m(\u001b[38;5;241m1\u001b[39m\u001b[38;5;241m/\u001b[39mMyRecall(y_true, y_pred)))\n\u001b[1;32m---> 23\u001b[0m \u001b[38;5;28mprint\u001b[39m(\u001b[38;5;124mf\u001b[39m\u001b[38;5;124m\"\u001b[39m\u001b[38;5;124mprecision_dum_sklearn = \u001b[39m\u001b[38;5;132;01m{\u001b[39;00mprecision_score(y_true, y_pred_dum)\u001b[38;5;132;01m}\u001b[39;00m\u001b[38;5;124m\"\u001b[39m)\n\u001b[0;32m     24\u001b[0m \u001b[38;5;28mprint\u001b[39m(\u001b[38;5;124mf\u001b[39m\u001b[38;5;124m\"\u001b[39m\u001b[38;5;124mprecision_sgd_sklearn = \u001b[39m\u001b[38;5;132;01m{\u001b[39;00mprecision_score(y_true, y_pred_sgd)\u001b[38;5;132;01m}\u001b[39;00m\u001b[38;5;124m\"\u001b[39m)\n\u001b[0;32m     25\u001b[0m \u001b[38;5;28mprint\u001b[39m(\u001b[38;5;124mf\u001b[39m\u001b[38;5;124m\"\u001b[39m\u001b[38;5;124mprecision_dum_my = \u001b[39m\u001b[38;5;132;01m{\u001b[39;00mMyPrecision(y_true, y_pred_dum)\u001b[38;5;132;01m}\u001b[39;00m\u001b[38;5;124m\"\u001b[39m)\n",
      "\u001b[1;31mNameError\u001b[0m: name 'y_true' is not defined"
     ]
    }
   ],
   "source": [
    "from sklearn.metrics import recall_score, precision_score, f1_score\n",
    "\n",
    "def MyPrecision(y_true, y_pred):\n",
    "    for i in range(y_true.shape[0]):\n",
    "        if y_true[i] == [True] and y_pred[i] == [True]:\n",
    "            trueP += 1\n",
    "        if y_true[i] == [False] and y_pred[i] == [True]:\n",
    "            falseP += 1;\n",
    "    return (trueP/(trueP+falseP))\n",
    "\n",
    "def MyRecall(y_true, y_pred):\n",
    "    for i in range(y_true.shape[0]):\n",
    "        if y_true[i] == [True] and y_pred[i] == [True]:\n",
    "            trueP += 1\n",
    "        if y_true[i] == [True] and y_pred[i] == [False]:\n",
    "            falseN += 1;\n",
    "    Np = trueP + falseN\n",
    "    return trueP/Np\n",
    "    \n",
    "def MyF1Score(y_true, y_pred):\n",
    "    return (2/(1/MyPrecision(y_true, y_pred))+(1/MyRecall(y_true, y_pred)))\n",
    "\n",
    "print(f\"precision_dum_sklearn = {precision_score(y_true, y_pred_dum)}\")\n",
    "print(f\"precision_sgd_sklearn = {precision_score(y_true, y_pred_sgd)}\")\n",
    "print(f\"precision_dum_my = {MyPrecision(y_true, y_pred_dum)}\")\n",
    "print(f\"precision_sgd_my = {MyPrecision(y_true, y_pred_sgd)}\")\n",
    "\n",
    "print(f\"recall_dum_sklearn = {recall_score(y_true, y_pred_dum)}\")\n",
    "print(f\"recall_sgd_sklearn = {recall_score(y_true, y_pred_sgd)}\")\n",
    "print(f\"recall_dum_my = {MyRecall(y_true, y_pred_dum)}\")\n",
    "print(f\"recall_sgd_my = {MyRecall(y_true, y_pred_sgd)}\")\n",
    "\n",
    "print(f\"F1Score_dum_sklearn = {f1_score(y_true, y_pred_dum)}\")\n",
    "print(f\"F1Score_sgd_sklearn = {f1_score(y_true, y_pred_sgd)}\")\n",
    "print(f\"F1Score_dum_my = {MyF1Score(y_true, y_pred_dum)}\")\n",
    "print(f\"F1Score_sgd_my = {MyF1Score(y_true, y_pred_sgd)}\")"
   ]
  },
  {
   "cell_type": "markdown",
   "id": "28c54bd2-388c-4618-b0a5-1c1151761510",
   "metadata": {},
   "source": [
    "## Qc - The Confusion Matrix"
   ]
  },
  {
   "cell_type": "markdown",
   "id": "6e6d2265-9259-42fa-8e68-d6d01ceb0d6e",
   "metadata": {},
   "source": [
    "## Qd - A Confusion Matrix Heat-map"
   ]
  },
  {
   "cell_type": "markdown",
   "id": "b30a4a04-5dd1-4c2d-b39e-94573cf098ae",
   "metadata": {},
   "source": [
    "## Qe - Conclusion"
   ]
  },
  {
   "cell_type": "code",
   "execution_count": null,
   "id": "f1681d5d-72b6-4348-b8e3-8197d56c9f0c",
   "metadata": {},
   "outputs": [],
   "source": []
  }
 ],
 "metadata": {
  "kernelspec": {
   "display_name": "Python 3 (ipykernel)",
   "language": "python",
   "name": "python3"
  },
  "language_info": {
   "codemirror_mode": {
    "name": "ipython",
    "version": 3
   },
   "file_extension": ".py",
   "mimetype": "text/x-python",
   "name": "python",
   "nbconvert_exporter": "python",
   "pygments_lexer": "ipython3",
   "version": "3.9.12"
  },
  "toc-autonumbering": true
 },
 "nbformat": 4,
 "nbformat_minor": 5
}
